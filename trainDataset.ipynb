{
  "nbformat": 4,
  "nbformat_minor": 0,
  "metadata": {
    "colab": {
      "name": "trainDataset.ipynb",
      "provenance": [],
      "collapsed_sections": []
    },
    "kernelspec": {
      "name": "python3",
      "display_name": "Python 3"
    },
    "language_info": {
      "name": "python"
    }
  },
  "cells": [
    {
      "cell_type": "code",
      "metadata": {
        "id": "KoWTbyYK7CUB"
      },
      "source": [
        "import tensorflow as tf\n",
        "from tensorflow.keras.preprocessing.image import ImageDataGenerator\n",
        "from tensorflow.keras.applications.resnet50 import preprocess_input"
      ],
      "execution_count": null,
      "outputs": []
    },
    {
      "cell_type": "code",
      "metadata": {
        "id": "29ILzACY5VDc"
      },
      "source": [
        "def training_dataset(train_path,test_path):\n",
        "  train_datagen = ImageDataGenerator(preprocessing_function = preprocess_input, shear_range = 0.2, zoom_range = 0.2, horizontal_flip = True,validation_split=0.4)\n",
        "  #test_datagen = ImageDataGenerator(preprocessing_function = preprocess_input, shear_range = 0.2, zoom_range = 0.2, horizontal_flip = True,validation_split=0.4)\n",
        "\n",
        "  train_dataset = train_datagen.flow_from_directory(train_path,\n",
        "                                          target_size=(224,224),\n",
        "                                          batch_size=32,\n",
        "                                          class_mode='categorical',\n",
        "                                          subset='training')\n",
        "\n",
        "  test_dataset = train_datagen.flow_from_directory(test_path,\n",
        "                                        target_size=(224,224),\n",
        "                                        batch_size=32,\n",
        "                                        class_mode='categorical',\n",
        "                                        subset='validation')\n",
        "  \n",
        "  return train_dataset,test_dataset"
      ],
      "execution_count": 2,
      "outputs": []
    }
  ]
}